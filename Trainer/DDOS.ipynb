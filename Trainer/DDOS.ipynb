{
  "cells": [
    {
      "cell_type": "code",
      "execution_count": 1,
      "metadata": {
        "colab": {
          "base_uri": "https://localhost:8080/"
        },
        "id": "va1S_bJG9aJ9",
        "outputId": "f0c8f117-c4cd-4bf2-e396-2d26542102ba"
      },
      "outputs": [
        {
          "output_type": "stream",
          "name": "stdout",
          "text": [
            "Drive already mounted at /content/drive; to attempt to forcibly remount, call drive.mount(\"/content/drive\", force_remount=True).\n"
          ]
        }
      ],
      "source": [
        "from google.colab import drive\n",
        "drive.mount('/content/drive')"
      ]
    },
    {
      "cell_type": "code",
      "execution_count": null,
      "metadata": {
        "colab": {
          "base_uri": "https://localhost:8080/",
          "height": 656
        },
        "id": "8LF-bV-d_SN5",
        "outputId": "e38877bd-0863-4b49-e501-c90e4c3d2e3c"
      },
      "outputs": [
        {
          "name": "stdout",
          "output_type": "stream",
          "text": [
            "Confusion Matrix:\n"
          ]
        },
        {
          "data": {
            "image/png": "[encoded data removed]",
            "text/plain": [
              "<Figure size 800x600 with 1 Axes>"
            ]
          },
          "metadata": {},
          "output_type": "display_data"
        },
        {
          "name": "stdout",
          "output_type": "stream",
          "text": [
            "Accuracy: 1.0\n",
            "Precision: 1.0\n",
            "Recall: 1.0\n",
            "F1 Score: 1.0\n"
          ]
        }
      ],
      "source": [
        "from datetime import datetime\n",
        "from matplotlib import pyplot as plt\n",
        "import seaborn as sns\n",
        "import pandas as pd\n",
        "from sklearn.model_selection import train_test_split\n",
        "import pickle\n",
        "from sklearn.ensemble import RandomForestClassifier\n",
        "from sklearn.metrics import confusion_matrix, accuracy_score, precision_score, recall_score, f1_score\n",
        "\n",
        "class DDoSClassifier:\n",
        "    def __init__(self, data_path):\n",
        "        self.data_path = data_path\n",
        "        self.classifier = RandomForestClassifier(n_estimators=10, criterion=\"entropy\", random_state=0)\n",
        "        self.X_train = None\n",
        "        self.X_test = None\n",
        "        self.y_train = None\n",
        "        self.y_test = None\n",
        "        self.model = None\n",
        "\n",
        "    def preprocess_data(self):\n",
        "        data = pd.read_csv(self.data_path)\n",
        "        data.iloc[:, 2] = data.iloc[:, 2].str.replace('.', '')\n",
        "        data.iloc[:, 3] = data.iloc[:, 3].str.replace('.', '')\n",
        "        data.iloc[:, 5] = data.iloc[:, 5].str.replace('.', '')\n",
        "        X_flow = data.iloc[:, :-1].values\n",
        "        X_flow = X_flow.astype('float64')\n",
        "        y_flow = data.iloc[:, -1].values\n",
        "        self.X_train, self.X_test, self.y_train, self.y_test = train_test_split(X_flow, y_flow, test_size=0.25, random_state=0)\n",
        "\n",
        "    def train_model(self):\n",
        "        self.model = self.classifier.fit(self.X_train, self.y_train)\n",
        "\n",
        "    def evaluate_model(self):\n",
        "        y_flow_pred = self.model.predict(self.X_test)\n",
        "        cm = confusion_matrix(self.y_test, y_flow_pred)\n",
        "        acc = accuracy_score(self.y_test, y_flow_pred)\n",
        "        precision = precision_score(self.y_test, y_flow_pred)\n",
        "        recall = recall_score(self.y_test, y_flow_pred)\n",
        "        f1 = f1_score(self.y_test, y_flow_pred)\n",
        "\n",
        "        print(\"Confusion Matrix:\")\n",
        "        plt.figure(figsize=(8, 6))\n",
        "        sns.heatmap(cm, annot=True, cmap='Blues', fmt='g', cbar=False)\n",
        "        plt.title('Confusion Matrix')\n",
        "        plt.xlabel('Predicted')\n",
        "        plt.ylabel('True')\n",
        "        plt.show()\n",
        "\n",
        "        print(\"Accuracy:\", acc)\n",
        "        print(\"Precision:\", precision)\n",
        "        print(\"Recall:\", recall)\n",
        "        print(\"F1 Score:\", f1)\n",
        "\n",
        "    def save_model(self, model_path):\n",
        "        with open(model_path, 'wb') as file:\n",
        "            pickle.dump(self.model, file)\n",
        "\n",
        "if __name__ == \"__main__\":\n",
        "    data_path = '/content/drive/MyDrive/DDOS/FlowStatsfile.csv'\n",
        "    model_path = '/content/drive/MyDrive/DDOS/models/RandomForest_model.pkl'\n",
        "\n",
        "    ddos_classifier = DDoSClassifier(data_path)\n",
        "    ddos_classifier.preprocess_data()\n",
        "    ddos_classifier.train_model()\n",
        "    ddos_classifier.evaluate_model()\n",
        "    ddos_classifier.save_model(model_path)\n"
      ]
    },
    {
      "cell_type": "code",
      "execution_count": null,
      "metadata": {
        "colab": {
          "base_uri": "https://localhost:8080/",
          "height": 656
        },
        "id": "BPp5vz6yANAm",
        "outputId": "25ef6ae2-238b-4aa0-c193-69d072108d44"
      },
      "outputs": [
        {
          "name": "stdout",
          "output_type": "stream",
          "text": [
            "Confusion Matrix:\n"
          ]
        },
        {
          "data": {
            "image/png": "[encoded data removed]",
            "text/plain": [
              "<Figure size 800x600 with 1 Axes>"
            ]
          },
          "metadata": {},
          "output_type": "display_data"
        },
        {
          "name": "stdout",
          "output_type": "stream",
          "text": [
            "Accuracy: 0.9999815753109166\n",
            "Precision: 1.0\n",
            "Recall: 0.9999740818495192\n",
            "F1 Score: 0.9999870407568199\n"
          ]
        }
      ],
      "source": [
        "from datetime import datetime\n",
        "from matplotlib import pyplot as plt\n",
        "import seaborn as sns\n",
        "import pandas as pd\n",
        "from sklearn.model_selection import train_test_split\n",
        "import pickle\n",
        "from seklearn.neighbors import KNeighborsClassifir\n",
        "from sklearn.metrics import confusion_matrix, accuracy_score, precision_score, recall_score, f1_score\n",
        "\n",
        "class DDoSClassifier:\n",
        "    def __init__(self, data_path):\n",
        "        self.data_path = data_path\n",
        "        self.classifier = KNeighborsClassifier()\n",
        "        self.X_train = None\n",
        "        self.X_test = None\n",
        "        self.y_train = None\n",
        "        self.y_test = None\n",
        "        self.model = None\n",
        "\n",
        "    def preprocess_data(self):\n",
        "        data = pd.read_csv(self.data_path)\n",
        "        data.iloc[:, 2] = data.iloc[:, 2].str.replace('.', '')\n",
        "        data.iloc[:, 3] = data.iloc[:, 3].str.replace('.', '')\n",
        "        data.iloc[:, 5] = data.iloc[:, 5].str.replace('.', '')\n",
        "        X_flow = data.iloc[:, :-1].values\n",
        "        X_flow = X_flow.astype('float64')\n",
        "        y_flow = data.iloc[:, -1].values\n",
        "        self.X_train, self.X_test, self.y_train, self.y_test = train_test_split(X_flow, y_flow, test_size=0.25, random_state=0)\n",
        "\n",
        "    def train_model(self):\n",
        "        self.model = self.classifier.fit(self.X_train, self.y_train)\n",
        "\n",
        "    def evaluate_model(self):\n",
        "        y_flow_pred = self.model.predict(self.X_test)\n",
        "        cm = confusion_matrix(self.y_test, y_flow_pred)\n",
        "        acc = accuracy_score(self.y_test, y_flow_pred)\n",
        "        precision = precision_score(self.y_test, y_flow_pred)\n",
        "        recall = recall_score(self.y_test, y_flow_pred)\n",
        "        f1 = f1_score(self.y_test, y_flow_pred)\n",
        "\n",
        "        print(\"Confusion Matrix:\")\n",
        "        plt.figure(figsize=(8, 6))\n",
        "        sns.heatmap(cm, annot=True, cmap='Blues', fmt='g', cbar=False)\n",
        "        plt.title('Confusion Matrix')\n",
        "        plt.xlabel('Predicted')\n",
        "        plt.ylabel('True')\n",
        "        plt.show()\n",
        "\n",
        "        print(\"Accuracy:\", acc)\n",
        "        print(\"Precision:\", precision)\n",
        "        print(\"Recall:\", recall)\n",
        "        print(\"F1 Score:\", f1)\n",
        "\n",
        "    def save_model(self, model_path):\n",
        "        with open(model_path, 'wb') as file:\n",
        "            pickle.dump(self.model, file)\n",
        "\n",
        "if __name__ == \"__main__\":\n",
        "    data_path = '/content/drive/MyDrive/DDOS/FlowStatsfile.csv'\n",
        "    model_path = '/content/drive/MyDrive/DDOS/models/KNN_model.pkl'\n",
        "\n",
        "    ddos_classifier = DDoSClassifier(data_path)\n",
        "    ddos_classifier.preprocess_data()\n",
        "    ddos_classifier.train_model()\n",
        "    ddos_classifier.evaluate_model()\n",
        "    ddos_classifier.save_model(model_path)\n"
      ]
    },
    {
      "cell_type": "code",
      "execution_count": null,
      "metadata": {
        "colab": {
          "base_uri": "https://localhost:8080/",
          "height": 656
        },
        "id": "jk5QwV0uBvvO",
        "outputId": "6bc0517a-0062-44ee-b80f-ec89046a507e"
      },
      "outputs": [
        {
          "name": "stdout",
          "output_type": "stream",
          "text": [
            "Confusion Matrix:\n"
          ]
        },
        {
          "data": {
            "image/png": "[encoded data removed]",
            "text/plain": [
              "<Figure size 800x600 with 1 Axes>"
            ]
          },
          "metadata": {},
          "output_type": "display_data"
        },
        {
          "name": "stdout",
          "output_type": "stream",
          "text": [
            "Accuracy: 1.0\n",
            "Precision: 1.0\n",
            "Recall: 1.0\n",
            "F1 Score: 1.0\n"
          ]
        }
      ],
      "source": [
        "from datetime import datetime\n",
        "from matplotlib import pyplot as plt\n",
        "import seaborn as sns\n",
        "import pandas as pd\n",
        "from sklearn.model_selection import train_test_split\n",
        "import pickle\n",
        "from sklearn.tree import DecisionTreeClassifier\n",
        "from sklearn.metrics import confusion_matrix, accuracy_score, precision_score, recall_score, f1_score\n",
        "\n",
        "class DDoSClassifier:\n",
        "    def __init__(self, data_path):\n",
        "        self.data_path = data_path\n",
        "        self.classifier = DecisionTreeClassifier(random_state=0)\n",
        "        self.X_train = None\n",
        "        self.X_test = None\n",
        "        self.y_train = None\n",
        "        self.y_test = None\n",
        "        self.model = None\n",
        "\n",
        "    def preprocess_data(self):\n",
        "        data = pd.read_csv(self.data_path)\n",
        "        data.iloc[:, 2] = data.iloc[:, 2].str.replace('.', '')\n",
        "        data.iloc[:, 3] = data.iloc[:, 3].str.replace('.', '')\n",
        "        data.iloc[:, 5] = data.iloc[:, 5].str.replace('.', '')\n",
        "        X_flow = data.iloc[:, :-1].values\n",
        "        X_flow = X_flow.astype('float64')\n",
        "        y_flow = data.iloc[:, -1].values\n",
        "        self.X_train, self.X_test, self.y_train, self.y_test = train_test_split(X_flow, y_flow, test_size=0.25, random_state=0)\n",
        "\n",
        "    def train_model(self):\n",
        "        self.model = self.classifier.fit(self.X_train, self.y_train)\n",
        "\n",
        "    def evaluate_model(self):\n",
        "        y_flow_pred = self.model.predict(self.X_test)\n",
        "        cm = confusion_matrix(self.y_test, y_flow_pred)\n",
        "        acc = accuracy_score(self.y_test, y_flow_pred)\n",
        "        precision = precision_score(self.y_test, y_flow_pred)\n",
        "        recall = recall_score(self.y_test, y_flow_pred)\n",
        "        f1 = f1_score(self.y_test, y_flow_pred)\n",
        "\n",
        "        print(\"Confusion Matrix:\")\n",
        "        plt.figure(figsize=(8, 6))\n",
        "        sns.heatmap(cm, annot=True, cmap='Blues', fmt='g', cbar=False)\n",
        "        plt.title('Confusion Matrix')\n",
        "        plt.xlabel('Predicted')\n",
        "        plt.ylabel('True')\n",
        "        plt.show()\n",
        "\n",
        "        print(\"Accuracy:\", acc)\n",
        "        print(\"Precision:\", precision)\n",
        "        print(\"Recall:\", recall)\n",
        "        print(\"F1 Score:\", f1)\n",
        "\n",
        "    def save_model(self, model_path):\n",
        "        with open(model_path, 'wb') as file:\n",
        "            pickle.dump(self.model, file)\n",
        "\n",
        "if __name__ == \"__main__\":\n",
        "    data_path = '/content/drive/MyDrive/DDOS/FlowStatsfile.csv'\n",
        "    model_path = '/content/drive/MyDrive/DDOS/models/DT_model.pkl'\n",
        "\n",
        "    ddos_classifier = DDoSClassifier(data_path)\n",
        "    ddos_classifier.preprocess_data()\n",
        "    ddos_classifier.train_model()\n",
        "    ddos_classifier.evaluate_model()\n",
        "    ddos_classifier.save_model(model_path)\n"
      ]
    },
    {
      "cell_type": "code",
      "execution_count": null,
      "metadata": {
        "colab": {
          "base_uri": "https://localhost:8080/",
          "height": 675
        },
        "id": "Csgk_hIrCQmd",
        "outputId": "aa1226fd-4568-4ae5-e21d-e34051ae3c1e"
      },
      "outputs": [
        {
          "name": "stdout",
          "output_type": "stream",
          "text": [
            "Best Parameters: {'max_depth': None, 'min_samples_leaf': 1, 'min_samples_split': 2, 'n_estimators': 15}\n",
            "Confusion Matrix:\n"
          ]
        },
        {
          "data": {
            "image/png": "[encoded data removed]",
            "text/plain": [
              "<Figure size 800x600 with 1 Axes>"
            ]
          },
          "metadata": {},
          "output_type": "display_data"
        },
        {
          "name": "stdout",
          "output_type": "stream",
          "text": [
            "Accuracy: 1.0\n",
            "Precision: 1.0\n",
            "Recall: 1.0\n",
            "F1 Score: 1.0\n"
          ]
        }
      ],
      "source": [
        "from datetime import datetime\n",
        "from matplotlib import pyplot as plt\n",
        "import seaborn as sns\n",
        "import pandas as pd\n",
        "from sklearn.model_selection import train_test_split, GridSearchCV\n",
        "from sklearn.ensemble import RandomForestClassifier\n",
        "from sklearn.metrics import confusion_matrix, accuracy_score, precision_score, recall_score, f1_score\n",
        "import pickle\n",
        "\n",
        "class DDoSClassifier:\n",
        "    def __init__(self, data_path):\n",
        "        self.data_path = data_path\n",
        "        self.X_train = None\n",
        "        self.X_test = None\n",
        "        self.y_train = None\n",
        "        self.y_test = None\n",
        "        self.model = None\n",
        "\n",
        "    def preprocess_data(self):\n",
        "        data = pd.read_csv(self.data_path)\n",
        "        data.iloc[:, 2] = data.iloc[:, 2].str.replace('.', '')\n",
        "        data.iloc[:, 3] = data.iloc[:, 3].str.replace('.', '')\n",
        "        data.iloc[:, 5] = data.iloc[:, 5].str.replace('.', '')\n",
        "        X_flow = data.iloc[:, :-1].values\n",
        "        X_flow = X_flow.astype('float64')\n",
        "        y_flow = data.iloc[:, -1].values\n",
        "        self.X_train, self.X_test, self.y_train, self.y_test = train_test_split(X_flow, y_flow, test_size=0.25, random_state=0)\n",
        "\n",
        "    def train_model(self):\n",
        "        # Define parameters for grid search\n",
        "        param_grid = {\n",
        "            'n_estimators': [10, 15],\n",
        "            'max_depth': [None, 5],\n",
        "            'min_samples_split': [2, 5],\n",
        "            'min_samples_leaf': [1, 2]\n",
        "        }\n",
        "\n",
        "        # Initialize Random Forest classifier\n",
        "        rf = RandomForestClassifier(random_state=0)\n",
        "\n",
        "        # Perform grid search\n",
        "        grid_search = GridSearchCV(estimator=rf, param_grid=param_grid, cv=5, scoring='accuracy', n_jobs=-1)\n",
        "        grid_search.fit(self.X_train, self.y_train)\n",
        "\n",
        "        # Get best parameters\n",
        "        best_params = grid_search.best_params_\n",
        "        print(\"Best Parameters:\", best_params)\n",
        "\n",
        "        # Train model with best parameters\n",
        "        self.model = RandomForestClassifier(**best_params, random_state=0)\n",
        "        self.model.fit(self.X_train, self.y_train)\n",
        "\n",
        "    def evaluate_model(self):\n",
        "        y_flow_pred = self.model.predict(self.X_test)\n",
        "        cm = confusion_matrix(self.y_test, y_flow_pred)\n",
        "        acc = accuracy_score(self.y_test, y_flow_pred)\n",
        "        precision = precision_score(self.y_test, y_flow_pred)\n",
        "        recall = recall_score(self.y_test, y_flow_pred)\n",
        "        f1 = f1_score(self.y_test, y_flow_pred)\n",
        "\n",
        "        print(\"Confusion Matrix:\")\n",
        "        plt.figure(figsize=(8, 6))\n",
        "        sns.heatmap(cm, annot=True, cmap='Blues', fmt='g', cbar=False)\n",
        "        plt.title('Confusion Matrix')\n",
        "        plt.xlabel('Predicted')\n",
        "        plt.ylabel('True')\n",
        "        plt.show()\n",
        "\n",
        "        print(\"Accuracy:\", acc)\n",
        "        print(\"Precision:\", precision)\n",
        "        print(\"Recall:\", recall)\n",
        "        print(\"F1 Score:\", f1)\n",
        "\n",
        "    def save_model(self, model_path):\n",
        "        with open(model_path, 'wb') as file:\n",
        "            pickle.dump(self.model, file)\n",
        "\n",
        "if __name__ == \"__main__\":\n",
        "    data_path = '/content/drive/MyDrive/DDOS/FlowStatsfile.csv'\n",
        "    model_path = '/content/drive/MyDrive/DDOS/models/RandomForest_model_hyperparameter_tuned.pkl'\n",
        "\n",
        "    ddos_classifier = DDoSClassifier(data_path)\n",
        "    ddos_classifier.preprocess_data()\n",
        "    ddos_classifier.train_model()\n",
        "    ddos_classifier.evaluate_model()\n",
        "    ddos_classifier.save_model(model_path)\n"
      ]
    },
    {
      "cell_type": "code",
      "execution_count": null,
      "metadata": {
        "colab": {
          "base_uri": "https://localhost:8080/",
          "height": 675
        },
        "id": "wAr-NRnJEKYC",
        "outputId": "ebf5879c-8169-430e-88af-dc40a5a72e32"
      },
      "outputs": [
        {
          "name": "stdout",
          "output_type": "stream",
          "text": [
            "Best Parameters: {'max_depth': None, 'min_samples_leaf': 1, 'min_samples_split': 2}\n",
            "Confusion Matrix:\n"
          ]
        },
        {
          "data": {
            "image/png": "[encoded data removed]",
            "text/plain": [
              "<Figure size 800x600 with 1 Axes>"
            ]
          },
          "metadata": {},
          "output_type": "display_data"
        },
        {
          "name": "stdout",
          "output_type": "stream",
          "text": [
            "Accuracy: 1.0\n",
            "Precision: 1.0\n",
            "Recall: 1.0\n",
            "F1 Score: 1.0\n"
          ]
        }
      ],
      "source": [
        "from datetime import datetime\n",
        "from matplotlib import pyplot as plt\n",
        "import seaborn as sns\n",
        "import pandas as pd\n",
        "from sklearn.model_selection import train_test_split, GridSearchCV\n",
        "from sklearn.tree import DecisionTreeClassifier\n",
        "from sklearn.metrics import confusion_matrix, accuracy_score, precision_score, recall_score, f1_score\n",
        "import pickle\n",
        "\n",
        "class DDoSClassifier:\n",
        "    def __init__(self, data_path):\n",
        "        self.data_path = data_path\n",
        "        self.X_train = None\n",
        "        self.X_test = None\n",
        "        self.y_train = None\n",
        "        self.y_test = None\n",
        "        self.model = None\n",
        "\n",
        "    def preprocess_data(self):\n",
        "        data = pd.read_csv(self.data_path)\n",
        "        data.iloc[:, 2] = data.iloc[:, 2].str.replace('.', '')\n",
        "        data.iloc[:, 3] = data.iloc[:, 3].str.replace('.', '')\n",
        "        data.iloc[:, 5] = data.iloc[:, 5].str.replace('.', '')\n",
        "        X_flow = data.iloc[:, :-1].values\n",
        "        X_flow = X_flow.astype('float64')\n",
        "        y_flow = data.iloc[:, -1].values\n",
        "        self.X_train, self.X_test, self.y_train, self.y_test = train_test_split(X_flow, y_flow, test_size=0.25, random_state=0)\n",
        "\n",
        "    def train_model(self):\n",
        "        # Define parameters for grid search\n",
        "        param_grid = {\n",
        "            'max_depth': [None, 5, 10],\n",
        "            'min_samples_split': [2, 5, 10],\n",
        "            'min_samples_leaf': [1, 2, 4]\n",
        "        }\n",
        "\n",
        "        # Initialize Decision Tree classifier\n",
        "        dt = DecisionTreeClassifier(random_state=0)\n",
        "\n",
        "        # Perform grid search\n",
        "        grid_search = GridSearchCV(estimator=dt, param_grid=param_grid, cv=5, scoring='accuracy', n_jobs=-1)\n",
        "        grid_search.fit(self.X_train, self.y_train)\n",
        "\n",
        "        # Get best parameters\n",
        "        best_params = grid_search.best_params_\n",
        "        print(\"Best Parameters:\", best_params)\n",
        "\n",
        "        # Train model with best parameters\n",
        "        self.model = DecisionTreeClassifier(**best_params, random_state=0)\n",
        "        self.model.fit(self.X_train, self.y_train)\n",
        "\n",
        "    def evaluate_model(self):\n",
        "        y_flow_pred = self.model.predict(self.X_test)\n",
        "        cm = confusion_matrix(self.y_test, y_flow_pred)\n",
        "        acc = accuracy_score(self.y_test, y_flow_pred)\n",
        "        precision = precision_score(self.y_test, y_flow_pred)\n",
        "        recall = recall_score(self.y_test, y_flow_pred)\n",
        "        f1 = f1_score(self.y_test, y_flow_pred)\n",
        "\n",
        "        print(\"Confusion Matrix:\")\n",
        "        plt.figure(figsize=(8, 6))\n",
        "        sns.heatmap(cm, annot=True, cmap='Blues', fmt='g', cbar=False)\n",
        "        plt.title('Confusion Matrix')\n",
        "        plt.xlabel('Predicted')\n",
        "        plt.ylabel('True')\n",
        "        plt.show()\n",
        "\n",
        "        print(\"Accuracy:\", acc)\n",
        "        print(\"Precision:\", precision)\n",
        "        print(\"Recall:\", recall)\n",
        "        print(\"F1 Score:\", f1)\n",
        "\n",
        "    def save_model(self, model_path):\n",
        "        with open(model_path, 'wb') as file:\n",
        "            pickle.dump(self.model, file)\n",
        "\n",
        "if __name__ == \"__main__\":\n",
        "    data_path = '/content/drive/MyDrive/DDOS/FlowStatsfile.csv'\n",
        "    model_path = '/content/drive/MyDrive/DDOS/models/DecisionTree_model_hyperparameter_tuned.pkl'\n",
        "\n",
        "    ddos_classifier = DDoSClassifier(data_path)\n",
        "    ddos_classifier.preprocess_data()\n",
        "    ddos_classifier.train_model()\n",
        "    ddos_classifier.evaluate_model()\n",
        "    ddos_classifier.save_model(model_path)\n"
      ]
    },
    {
      "cell_type": "code",
      "execution_count": null,
      "metadata": {
        "colab": {
          "background_save": true
        },
        "id": "F6qS-vNjE4Gh",
        "outputId": "f9f2e889-4791-4152-e076-d60a452c5657"
      },
      "outputs": [
        {
          "name": "stdout",
          "output_type": "stream",
          "text": [
            "Best Parameters: {'n_neighbors': 3}\n",
            "Confusion Matrix:\n"
          ]
        },
        {
          "data": {
            "image/png": "[encoded data removed]",
            "text/plain": [
              "<Figure size 800x600 with 1 Axes>"
            ]
          },
          "metadata": {},
          "output_type": "display_data"
        },
        {
          "name": "stdout",
          "output_type": "stream",
          "text": [
            "Accuracy: 0.9999815753109166\n",
            "Precision: 1.0\n",
            "Recall: 0.9999740818495192\n",
            "F1 Score: 0.9999870407568199\n"
          ]
        }
      ],
      "source": [
        "from datetime import datetime\n",
        "from matplotlib import pyplot as plt\n",
        "import seaborn as sns\n",
        "import pandas as pd\n",
        "from sklearn.model_selection import train_test_split, GridSearchCV\n",
        "from sklearn.neighbors import KNeighborsClassifier\n",
        "from sklearn.metrics import confusion_matrix, accuracy_score, precision_score, recall_score, f1_score\n",
        "import pickle\n",
        "\n",
        "class DDoSClassifier:\n",
        "    def __init__(self, data_path):\n",
        "        self.data_path = data_path\n",
        "        self.X_train = None\n",
        "        self.X_test = None\n",
        "        self.y_train = None\n",
        "        self.y_test = None\n",
        "        self.model = None\n",
        "\n",
        "    def preprocess_data(self):\n",
        "        data = pd.read_csv(self.data_path)\n",
        "        data.iloc[:, 2] = data.iloc[:, 2].str.replace('.', '')\n",
        "        data.iloc[:, 3] = data.iloc[:, 3].str.replace('.', '')\n",
        "        data.iloc[:, 5] = data.iloc[:, 5].str.replace('.', '')\n",
        "        X_flow = data.iloc[:, :-1].values\n",
        "        X_flow = X_flow.astype('float64')\n",
        "        y_flow = data.iloc[:, -1].values\n",
        "        self.X_train, self.X_test, self.y_train, self.y_test = train_test_split(X_flow, y_flow, test_size=0.25, random_state=0)\n",
        "\n",
        "    def train_model(self):\n",
        "        # Define parameters for grid search\n",
        "        param_grid = {\n",
        "            'n_neighbors': [3, 5, 7, 9, 11]\n",
        "        }\n",
        "\n",
        "        # Initialize KNN classifier\n",
        "        knn = KNeighborsClassifier()\n",
        "\n",
        "        # Perform grid search\n",
        "        grid_search = GridSearchCV(estimator=knn, param_grid=param_grid, cv=5, scoring='accuracy', n_jobs=-1)\n",
        "        grid_search.fit(self.X_train, self.y_train)\n",
        "\n",
        "        # Get best parameters\n",
        "        best_params = grid_search.best_params_\n",
        "        print(\"Best Parameters:\", best_params)\n",
        "\n",
        "        # Train model with best parameters\n",
        "        self.model = KNeighborsClassifier(**best_params)\n",
        "        self.model.fit(self.X_train, self.y_train)\n",
        "\n",
        "    def evaluate_model(self):\n",
        "        y_flow_pred = self.model.predict(self.X_test)\n",
        "        cm = confusion_matrix(self.y_test, y_flow_pred)\n",
        "        acc = accuracy_score(self.y_test, y_flow_pred)\n",
        "        precision = precision_score(self.y_test, y_flow_pred)\n",
        "        recall = recall_score(self.y_test, y_flow_pred)\n",
        "        f1 = f1_score(self.y_test, y_flow_pred)\n",
        "\n",
        "        print(\"Confusion Matrix:\")\n",
        "        plt.figure(figsize=(8, 6))\n",
        "        sns.heatmap(cm, annot=True, cmap='Blues', fmt='g', cbar=False)\n",
        "        plt.title('Confusion Matrix')\n",
        "        plt.xlabel('Predicted')\n",
        "        plt.ylabel('True')\n",
        "        plt.show()\n",
        "\n",
        "        print(\"Accuracy:\", acc)\n",
        "        print(\"Precision:\", precision)\n",
        "        print(\"Recall:\", recall)\n",
        "        print(\"F1 Score:\", f1)\n",
        "\n",
        "    def save_model(self, model_path):\n",
        "        with open(model_path, 'wb') as file:\n",
        "            pickle.dump(self.model, file)\n",
        "\n",
        "if __name__ == \"__main__\":\n",
        "    data_path = '/content/drive/MyDrive/DDOS/FlowStatsfile.csv'\n",
        "    model_path = '/content/drive/MyDrive/DDOS/models/KNN_model_hyperparameter_tuned.pkl'\n",
        "\n",
        "    ddos_classifier = DDoSClassifier(data_path)\n",
        "    ddos_classifier.preprocess_data()\n",
        "    ddos_classifier.train_model()\n",
        "    ddos_classifier.evaluate_model()\n",
        "    ddos_classifier.save_model(model_path)"
      ]
    }
  ],
  "metadata": {
    "colab": {
      "provenance": []
    },
    "kernelspec": {
      "display_name": "Python 3",
      "name": "python3"
    },
    "language_info": {
      "name": "python"
    }
  },
  "nbformat": 4,
  "nbformat_minor": 0
}